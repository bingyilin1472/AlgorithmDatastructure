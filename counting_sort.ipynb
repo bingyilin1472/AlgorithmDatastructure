{
 "cells": [
  {
   "cell_type": "code",
   "execution_count": 5,
   "metadata": {
    "collapsed": true
   },
   "outputs": [
    {
     "name": "stdout",
     "output_type": "stream",
     "text": [
      "[0, 0, 0, 0, 0]\n",
      "[0, 0, 0, 0, 0]\n",
      "['', '', '', '', '']\n",
      "['', '', '', '', '']\n"
     ]
    }
   ],
   "source": [
    "o1 = [0 for i in range(5)]\n",
    "o2 = [0 for _ in range(5)]\n",
    "o3 = [\"\" for i in range(5)]\n",
    "o4 = [\"\" for _ in range(5)]\n",
    "print(o1)\n",
    "print(o2)\n",
    "print(o3)\n",
    "print(o4)"
   ]
  },
  {
   "cell_type": "code",
   "execution_count": 8,
   "outputs": [],
   "source": [
    "def countingSort(input):\n",
    "    count = [0 for _ in range(256)]\n",
    "    ans = [0 for _ in range(len(input))]\n",
    "    # counting part\n",
    "    for i in input:\n",
    "        count[i] += 1\n",
    "    # accumulating part\n",
    "    for j in range(256):\n",
    "        if j != 0:\n",
    "            count[j] += count[j-1]\n",
    "    for k in input:\n",
    "        p = count[k] - 1\n",
    "        count[k] -= 1\n",
    "        ans[p] = k\n",
    "    return ans"
   ],
   "metadata": {
    "collapsed": false,
    "pycharm": {
     "name": "#%%\n"
    }
   }
  },
  {
   "cell_type": "code",
   "execution_count": 9,
   "outputs": [
    {
     "data": {
      "text/plain": "[3, 5, 6, 40, 50, 96, 100, 255]"
     },
     "execution_count": 9,
     "metadata": {},
     "output_type": "execute_result"
    }
   ],
   "source": [
    "input = [5, 6, 3, 100, 50, 96, 40, 255]\n",
    "countingSort(input)"
   ],
   "metadata": {
    "collapsed": false,
    "pycharm": {
     "name": "#%%\n"
    }
   }
  },
  {
   "cell_type": "code",
   "execution_count": null,
   "outputs": [],
   "source": [],
   "metadata": {
    "collapsed": false,
    "pycharm": {
     "name": "#%%\n"
    }
   }
  }
 ],
 "metadata": {
  "kernelspec": {
   "display_name": "Python 3",
   "language": "python",
   "name": "python3"
  },
  "language_info": {
   "codemirror_mode": {
    "name": "ipython",
    "version": 2
   },
   "file_extension": ".py",
   "mimetype": "text/x-python",
   "name": "python",
   "nbconvert_exporter": "python",
   "pygments_lexer": "ipython2",
   "version": "2.7.6"
  }
 },
 "nbformat": 4,
 "nbformat_minor": 0
}